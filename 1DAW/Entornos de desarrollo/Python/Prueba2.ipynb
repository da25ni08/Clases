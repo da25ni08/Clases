{
  "nbformat": 4,
  "nbformat_minor": 0,
  "metadata": {
    "colab": {
      "provenance": []
    },
    "kernelspec": {
      "name": "python3",
      "display_name": "Python 3"
    },
    "language_info": {
      "name": "python"
    }
  },
  "cells": [
    {
      "cell_type": "code",
      "execution_count": null,
      "metadata": {
        "id": "24oSxlhQjbND"
      },
      "outputs": [],
      "source": [
        "!help"
      ]
    },
    {
      "cell_type": "code",
      "source": [
        "!man find"
      ],
      "metadata": {
        "id": "ffjwgFEMje2g"
      },
      "execution_count": null,
      "outputs": []
    },
    {
      "cell_type": "code",
      "source": [
        "!find / -name *.ipynb"
      ],
      "metadata": {
        "id": "USrdP9ySjjO_"
      },
      "execution_count": 3,
      "outputs": []
    },
    {
      "cell_type": "code",
      "source": [
        "num = input(\"Inserte un número \")\n",
        "print(\"Tu número es\", num)\n",
        "print(\"Tu número por 5 es\", num * 5)\n",
        "num = int(num)\n",
        "print(\"Tu número multiplicado por 5 es\", num * 5)"
      ],
      "metadata": {
        "id": "MBHewvWyj09Q"
      },
      "execution_count": null,
      "outputs": []
    },
    {
      "cell_type": "code",
      "source": [
        "type(num)"
      ],
      "metadata": {
        "id": "utaW-ULAku0p"
      },
      "execution_count": null,
      "outputs": []
    },
    {
      "cell_type": "code",
      "source": [
        "num = 10 // 3\n",
        "print(num)\n",
        "type (num)"
      ],
      "metadata": {
        "id": "_ed7jqQXkz3v"
      },
      "execution_count": null,
      "outputs": []
    },
    {
      "cell_type": "code",
      "source": [
        "num = 10 / 3\n",
        "print(num)\n",
        "type (num)"
      ],
      "metadata": {
        "id": "_1pU6_szk-Jf"
      },
      "execution_count": null,
      "outputs": []
    },
    {
      "cell_type": "code",
      "source": [
        "num = 10 % 3\n",
        "print(num)"
      ],
      "metadata": {
        "id": "h0bY-GENlIW3"
      },
      "execution_count": null,
      "outputs": []
    }
  ]
}